{
 "cells": [
  {
   "cell_type": "markdown",
   "metadata": {
    "id": "_vPS4SuNUjvu"
   },
   "source": [
    "# <h1> **ANÁLISIS DE LA EMPRESA ZUBER** </h1> \n"
   ]
  },
  {
   "cell_type": "markdown",
   "metadata": {
    "id": "Jp6a29KmVqcZ"
   },
   "source": [
    "### <h2> **DESCRIPCIÓN DEL PROYECTO** </h2>"
   ]
  },
  {
   "cell_type": "markdown",
   "metadata": {
    "id": "3Eh0hQ7HVPdk"
   },
   "source": [
    "**Zuber**, una nueva empresa de viajes compartidos que se está lanzando en Chicago. se busca encontrar patrones en la información disponible para comprender las preferencias de los pasajeros y el impacto de los factores externos en los viajes.\n"
   ]
  },
  {
   "cell_type": "markdown",
   "metadata": {
    "id": "I2oaHt6tVeGp"
   },
   "source": [
    "\n",
    "Al trabajar con una base de datos, se analizan los datos de los competidores y se busca probar una hipótesis sobre el impacto del clima en la frecuencia de los viajes."
   ]
  },
  {
   "cell_type": "markdown",
   "metadata": {
    "id": "jpC3iQTNV4QP"
   },
   "source": [
    "### <h2> **DESCRIPCIÓN DE LOS DATOS** </h2>\n"
   ]
  },
  {
   "cell_type": "markdown",
   "metadata": {
    "id": "LT8qsGBlpBjC"
   },
   "source": [
    "**Una base de datos con información sobre viajes en taxi en Chicago:**\n",
    "\n",
    "`Tabla neighborhoods`: datos sobre los barrios de la ciudad\n",
    "* name: nombre del barrio\n",
    "*neighborhood_id: código del barrio\n",
    "* tabla cabs: datos sobre los taxis\n",
    "* cab_id: código del vehículo\n",
    "* vehicle_id: ID técnico del vehículo\n",
    "* company_name: la empresa propietaria del vehículo.\n",
    "\n",
    "`Tabla trips`: datos sobre los viajes\n",
    "* trip_id: código del viaje\n",
    "* cab_id: código del vehículo que opera el viaje\n",
    "* start_ts: fecha y hora del inicio del viaje (tiempo redondeado a la hora)\n",
    "* end_ts: fecha y hora de finalización del viaje (tiempo redondeado a la hora)\n",
    "* duration_seconds: duración del viaje en segundos\n",
    "* distance_miles: distancia del viaje en millas\n",
    "* pickup_location_id: código del barrio de recogida\n",
    "* dropoff_location_id: código del barrio de finalización\n",
    "\n",
    "`tabla weather_records`: datos sobre el clima\n",
    "* record_id: código del registro meteorológico\n",
    "* ts: fecha y hora del registro (tiempo redondeado a la hora)\n",
    "* temperature: temperatura cuando se tomó el registro\n",
    "* description: breve descripción de las condiciones meteorológicas, por ejemplo, \"lluvia ligera\" o \"nubes dispersas\"\n"
   ]
  },
  {
   "cell_type": "markdown",
   "metadata": {
    "id": "CjHkNcmsrshc"
   },
   "source": [
    "Luego con estas tablas, se prode a utilizar el lenguaje SQL para obtener la información relavante e importarla como archivos SQL a python para analizar los datos y dar respuesta  la hipótesis:\n",
    "\n",
    "\"La duración promedio de los viajes desde el Loop hasta el Aeropuerto Internacional O'Hare cambia los sábados lluviosos\"."
   ]
  },
  {
   "cell_type": "markdown",
   "metadata": {
    "id": "2wgAqBFUWpZG"
   },
   "source": [
    "### <h2> **ANÁLISIS EXPLORATORIO DE LOS DATOS** </h2>"
   ]
  },
  {
   "cell_type": "markdown",
   "metadata": {
    "id": "VOckq6sjWe18"
   },
   "source": [
    "#### <h3> **LIBRERÍAS** </h3>"
   ]
  },
  {
   "cell_type": "code",
   "execution_count": null,
   "metadata": {
    "id": "mrBWWZJNS6AD"
   },
   "outputs": [],
   "source": [
    "import pandas as pd\n",
    "import numpy as np\n",
    "import datetime as dt\n",
    "import matplotlib.pyplot as plt\n",
    "import scipy as sc\n",
    "from scipy import stats as st"
   ]
  },
  {
   "cell_type": "markdown",
   "metadata": {
    "id": "shGq0brWsQTY"
   },
   "source": [
    "#### <h3> **PREPROCESAMIENTO DE DATOS** </h3>\n",
    "\n"
   ]
  },
  {
   "cell_type": "markdown",
   "metadata": {
    "id": "He53AsdDWkIR"
   },
   "source": [
    "Se muestran los datasets\n"
   ]
  },
  {
   "cell_type": "code",
   "execution_count": null,
   "metadata": {
    "colab": {
     "base_uri": "https://localhost:8080/",
     "height": 363
    },
    "id": "W862QeCdUi6R",
    "outputId": "9fc3748a-6fc7-49c4-a45c-c7eb6e67e98e"
   },
   "outputs": [
    {
     "data": {},
     "execution_count": 9,
     "metadata": {},
     "output_type": "execute_result"
    }
   ],
   "source": [
    "try:\n",
    "  company = pd.read_csv('/content/drive/MyDrive/practicum/Sprint6/project_sql_result_01.csv')\n",
    "except:\n",
    "  company = pd.read_csv('/project_sql_result_01.csv')\n",
    "company.head(10)"
   ]
  },
  {
   "cell_type": "code",
   "execution_count": null,
   "metadata": {
    "colab": {
     "base_uri": "https://localhost:8080/",
     "height": 363
    },
    "id": "6PH6UFcfpT2b",
    "outputId": "bfb29280-949b-439b-e59e-77a3c1b2efb9"
   },
   "outputs": [
    {
     "data": {},
     "execution_count": 10,
     "metadata": {},
     "output_type": "execute_result"
    }
   ],
   "source": [
    "try:\n",
    "  dropoff = pd.read_csv('/content/drive/MyDrive/practicum/Sprint6/project_sql_result_04.csv')\n",
    "except:\n",
    "  dropoff = pd.read_csv('/project_sql_result_04.csv')\n",
    "\n",
    "dropoff.head(10)"
   ]
  },
  {
   "cell_type": "code",
   "execution_count": null,
   "metadata": {
    "colab": {
     "base_uri": "https://localhost:8080/",
     "height": 363
    },
    "id": "pyGChHg7une7",
    "outputId": "811c2937-0773-48b1-dffe-3a34f7e9c414"
   },
   "outputs": [
    {
     "data": {},
     "execution_count": 11,
     "metadata": {},
     "output_type": "execute_result"
    }
   ],
   "source": [
    "try:\n",
    "  trips = pd.read_csv('/content/drive/MyDrive/practicum/Sprint6/project_sql_result_07.csv')\n",
    "except:\n",
    "  trips  = pd.read_csv('/project_sql_result_04.csv')\n",
    "\n",
    "trips.head(10)"
   ]
  },
  {
   "cell_type": "markdown",
   "metadata": {
    "id": "oJRJoZPUtgN2"
   },
   "source": [
    "Se procede a observar el tipo de datos, se sabe que no habrá ausentes ya que se extrajeron los datos de la base de datos SQL por medio de un `INNER JOIN`:"
   ]
  },
  {
   "cell_type": "code",
   "execution_count": null,
   "metadata": {
    "colab": {
     "base_uri": "https://localhost:8080/"
    },
    "id": "sipkBbMmtelR",
    "outputId": "a2da1edd-7c27-4913-d90b-60286120a908"
   },
   "outputs": [],
   "source": [
    "company.info()"
   ]
  },
  {
   "cell_type": "markdown",
   "metadata": {
    "id": "6fAhn1xkt33r"
   },
   "source": [
    "Se observa que los tipo de dato son adecuados y no se debe realizar ninguna modificación, a continuación comprobamos el data frame `dropoff`"
   ]
  },
  {
   "cell_type": "code",
   "execution_count": null,
   "metadata": {
    "colab": {
     "base_uri": "https://localhost:8080/"
    },
    "id": "cocHN3UjsB8I",
    "outputId": "da09d8c6-7483-4380-80f6-2aec537d31a4"
   },
   "outputs": [],
   "source": [
    "dropoff.info()"
   ]
  },
  {
   "cell_type": "markdown",
   "metadata": {
    "id": "Z0NqIP9YVO5t"
   },
   "source": [
    "Como se observa no se debe ralizar ninguna modificación a los datos "
   ]
  },
  {
   "cell_type": "markdown",
   "metadata": {
    "id": "c7634WhgvFft"
   },
   "source": [
    "Por ultimo se analiza la tabla de `trips`"
   ]
  },
  {
   "cell_type": "code",
   "execution_count": null,
   "metadata": {
    "colab": {
     "base_uri": "https://localhost:8080/"
    },
    "id": "AjbCl9Zbulvq",
    "outputId": "a97e2b96-849d-4eb0-debd-f1bffdb93b1b"
   },
   "outputs": [],
   "source": [
    "trips.info()"
   ]
  },
  {
   "cell_type": "markdown",
   "metadata": {
    "id": "qyKgAEmmvORc"
   },
   "source": [
    "Se prode a cmabiar el tipo de datos de la columna `'start_ts'` a tipo `datetime`"
   ]
  },
  {
   "cell_type": "code",
   "execution_count": null,
   "metadata": {
    "id": "buzT4ARtvcF_"
   },
   "outputs": [],
   "source": [
    "trips['start_ts'] = pd.to_datetime(trips['start_ts'])"
   ]
  },
  {
   "cell_type": "markdown",
   "metadata": {
    "id": "aMesytH7vs-_"
   },
   "source": [
    "Se verifica el cambio"
   ]
  },
  {
   "cell_type": "code",
   "execution_count": null,
   "metadata": {
    "colab": {
     "base_uri": "https://localhost:8080/"
    },
    "id": "hdHCpaP_vnWO",
    "outputId": "711b213c-0756-476d-92e8-395b12c1e524"
   },
   "outputs": [],
   "source": [
    "trips.info()"
   ]
  },
  {
   "cell_type": "markdown",
   "metadata": {
    "id": "rXcZIIArvv98"
   },
   "source": [
    "Se observa que el procedimiento fuie exitoso"
   ]
  },
  {
   "cell_type": "markdown",
   "metadata": {
    "id": "m8OpCLrdw5Um"
   },
   "source": [
    "#### <h3> **ANÁLISIS DE LOS DATOS** </h3>"
   ]
  },
  {
   "cell_type": "markdown",
   "metadata": {
    "id": "sheLAYdmxD3f"
   },
   "source": [
    "Primeramente, se procede a determinar cuales son los 10 barrios con mejor average de finalización de viajes"
   ]
  },
  {
   "cell_type": "code",
   "execution_count": null,
   "metadata": {
    "colab": {
     "base_uri": "https://localhost:8080/",
     "height": 363
    },
    "id": "1dT9z_1Nw_FZ",
    "outputId": "f367bbaf-0935-414f-9658-187d01d162d8"
   },
   "outputs": [
    {
     "data": {},
     "execution_count": 17,
     "metadata": {},
     "output_type": "execute_result"
    }
   ],
   "source": [
    "dropoff.sort_values(by = 'average_trips', ascending = False).head(10)"
   ]
  },
  {
   "cell_type": "markdown",
   "metadata": {
    "id": "-XnXa7YUtE9j"
   },
   "source": [
    "A continuación estudiamos como se distribuyen los datos en los barrios"
   ]
  },
  {
   "cell_type": "code",
   "execution_count": null,
   "metadata": {
    "colab": {
     "base_uri": "https://localhost:8080/",
     "height": 300
    },
    "id": "riI7rbqh3Gui",
    "outputId": "7ab00de0-6c97-4913-972d-16069a8f0251"
   },
   "outputs": [
    {
     "data": {},
     "execution_count": 18,
     "metadata": {},
     "output_type": "execute_result"
    }
   ],
   "source": [
    "dropoff.describe()"
   ]
  },
  {
   "cell_type": "markdown",
   "metadata": {
    "id": "selrZZEdtMSc"
   },
   "source": [
    "Como se puede observar, vemos que de media se terminaron 600 en los barrios estudiados en noviembre de 2017. Sin embargo su mediana está en torno a los 50 viajes terminados, del mismo modo se evidencia la desviación standar es incluso más alta que la media, mosrando que los datos estan bastantes dispersos del centro de la distribución, con lo que se puede inferir que ciertos barrios deben de utilizar mucho más el servicio que otros, por gran diferencia "
   ]
  },
  {
   "cell_type": "markdown",
   "metadata": {
    "id": "AESolJkIwrSe"
   },
   "source": [
    "Se procede a graficar los valores para visualizar las características encontradas. Se crea una pivot Table"
   ]
  },
  {
   "cell_type": "code",
   "execution_count": null,
   "metadata": {
    "id": "YrIUrq7h9gw3"
   },
   "outputs": [],
   "source": [
    "dropoff_pivot = dropoff.pivot_table(index='dropoff_location_name').sort_values(by='average_trips', ascending = False).head(10)"
   ]
  },
  {
   "cell_type": "markdown",
   "metadata": {
    "id": "dMOvbKIswpCv"
   },
   "source": [
    "Se realiza un gráfico de barras"
   ]
  },
  {
   "cell_type": "code",
   "execution_count": null,
   "metadata": {
    "colab": {
     "base_uri": "https://localhost:8080/",
     "height": 561
    },
    "id": "BiECBZcR9u1R",
    "outputId": "e7548d04-1cc5-4a86-8b83-f4a39fdb8360"
   },
   "outputs": [
    {
     "data": {
      "image/png": "[encoded data removed]"
     },
     "metadata": {
      "needs_background": "light"
     },
     "output_type": "display_data"
    }
   ],
   "source": [
    "dropoff_pivot.plot(kind = 'bar', figsize = (20,8))\n",
    "plt.title('dropoff_location_name VS average_trips')\n",
    "plt.show()"
   ]
  },
  {
   "cell_type": "markdown",
   "metadata": {
    "id": "IJukjaS-xOH8"
   },
   "source": [
    "`Loop` con diferencia es el barrio cantidad de viajes culminados, con gran diferencia, enttres los 10 barrios más populares, se evidencia que valor es practicamente 20 veces la media de los valores, y que los 10 están al menos 2 veces por encima de la mediana. Siendo el menos popular de ellos `Sheffield & DePaul` con 1260 viajes terminados."
   ]
  },
  {
   "cell_type": "code",
   "execution_count": null,
   "metadata": {
    "colab": {
     "base_uri": "https://localhost:8080/",
     "height": 500
    },
    "id": "ACTMxgSj93Sd",
    "outputId": "7d23438e-7cd3-403d-db56-0645ea744611"
   },
   "outputs": [
    {
     "data": {
      "image/png": "[encoded data removed]"
     },
     "metadata": {
      "needs_background": "light"
     },
     "output_type": "display_data"
    }
   ],
   "source": [
    "dropoff_pivot.boxplot(figsize = (10,8))\n",
    "plt.title('Distribution of values of average_trips on dropoff_location_name')\n",
    "plt.show()"
   ]
  },
  {
   "cell_type": "markdown",
   "metadata": {
    "id": "pXZFI8j5xw0X"
   },
   "source": [
    "Como se observa, hay una clara desviación de los datos por encima del 75% de la distribución, donde el 50% está bastante cerca del 25%, sin tender a tener valores atípicos. Mostrando que el sesgo de los datos es hacia el aumento."
   ]
  },
  {
   "cell_type": "markdown",
   "metadata": {
    "id": "34tkJbHG-5Iv"
   },
   "source": [
    "Prosiguiendo, se analiza la distribución del número de viajes de cada compañía de taxis el 15 y 16 de noviembre de 2017."
   ]
  },
  {
   "cell_type": "code",
   "execution_count": null,
   "metadata": {
    "colab": {
     "base_uri": "https://localhost:8080/"
    },
    "id": "VAthaekQ3Q-z",
    "outputId": "7ef0e04c-9db7-4c32-f8b0-5c5ff2255ca6"
   },
   "outputs": [
    {
     "data": {},
     "execution_count": 40,
     "metadata": {},
     "output_type": "execute_result"
    }
   ],
   "source": [
    "company.describe()"
   ]
  },
  {
   "cell_type": "markdown",
   "metadata": {
    "id": "PLV15AFAACnL"
   },
   "source": [
    "Como se observa, la mediana oscila en unos 178 viajes, con una media de 2145 viajes se encuentran bastante alejadas, por lo que deben haber valores muy altos y una posible presencia de atípicos, dado el numero tan elevado en al desviación estandar, y que la media incluso se encuentra por encima del 75% de la distribución, por loq eus e puede decir que existen algunas compañias con unas ventas muy superiores a las otras."
   ]
  },
  {
   "cell_type": "markdown",
   "metadata": {
    "id": "W9Mta8vWjfMW"
   },
   "source": [
    "Se crea una tabla que nos permita realizar un gráfico de barra y caja y bigotes para determinar que valores son los mas proliferantes."
   ]
  },
  {
   "cell_type": "code",
   "execution_count": null,
   "metadata": {
    "id": "VLA-0izA2RJe"
   },
   "outputs": [],
   "source": [
    "company_pivot = company.pivot_table(index='company_name').sort_values(by='trips_amount', ascending = False).head(15)"
   ]
  },
  {
   "cell_type": "markdown",
   "metadata": {
    "id": "Vc7km3h6jpPc"
   },
   "source": [
    "Se decide truncar a las 15 mejores empresas, para que el gráfico sea mas sencillo de leer y se llegue a conclusiones acertadas."
   ]
  },
  {
   "cell_type": "code",
   "execution_count": null,
   "metadata": {
    "colab": {
     "base_uri": "https://localhost:8080/",
     "height": 640
    },
    "id": "eP4skal_y9ct",
    "outputId": "97cd6d1f-36ad-46e2-b125-183d6d7fdb90"
   },
   "outputs": [
    {
     "data": {
      "image/png": "[encoded data removed]"
     },
     "metadata": {
      "needs_background": "light"
     },
     "output_type": "display_data"
    }
   ],
   "source": [
    "company_pivot.plot(kind = 'bar', figsize = (20,8))\n",
    "plt.title('company_name VS trips_amount')\n",
    "plt.show()"
   ]
  },
  {
   "cell_type": "markdown",
   "metadata": {
    "id": "9BpUoq3pj2cM"
   },
   "source": [
    "Flash cap, es una compañia con un rendimiento bastante elevado, incluso tiene casi el doble de viajes que el segundo puesto de la lita. POr loq ue ya se sabe que si se quiere ser el mejor se debe superar los 19558 viajes diarios. Sin embargo para estar entre las 10 mejores solamente se deben superar 5953 viajes. "
   ]
  },
  {
   "cell_type": "markdown",
   "metadata": {
    "id": "y2y7DDiBmbI0"
   },
   "source": [
    "Por último se estudian los valores atípicos"
   ]
  },
  {
   "cell_type": "code",
   "execution_count": null,
   "metadata": {
    "colab": {
     "base_uri": "https://localhost:8080/",
     "height": 500
    },
    "id": "nBUZaXnZ3c8X",
    "outputId": "968eea0f-1775-467b-f5a9-8d55ec996e32"
   },
   "outputs": [
    {
     "data": {
      "image/png": "[encoded data removed]"
     },
     "metadata": {
      "needs_background": "light"
     },
     "output_type": "display_data"
    }
   ],
   "source": [
    "company_pivot.boxplot(figsize = (10,8))\n",
    "plt.title('Distribution of values of trips_amount on company_name')\n",
    "plt.show()"
   ]
  },
  {
   "cell_type": "markdown",
   "metadata": {
    "id": "f-0SKt9OAJtX"
   },
   "source": [
    "En este caso el único valor atípico fue el de la empresa Flash Cab, de resto todos se encuentran en el rango de datos óptimo. Seguramnete tuvo suerte ese día o alguna condición favorable para el. Sine mabrgo vemos como la distribución esta mejor que la de los barrios, se ve que cuando se estudia una zona específica, vemos una mayor preferencia a ciertos medios de transporte."
   ]
  },
  {
   "cell_type": "markdown",
   "metadata": {
    "id": "vRpbmlc_nO3i"
   },
   "source": [
    "##### <h4> **CONCLUSION INTERMEDIA** </h4>\n"
   ]
  },
  {
   "cell_type": "markdown",
   "metadata": {
    "id": "T8Wrp6d_ndPp"
   },
   "source": [
    "Se evidencia una mayor tendencia a emplear viajes en taxi en los barrios de `Loop`, `River North`, `Streeterville`, `West Loop`\ty  `O'Hare`\tpor los que son los sitios donde sería ideal comenzar a posicionar la compañia, aunque probablmente esto evidencia una mayo competencia, por lo que la campaña de marketing debe estar a al altura del desafío."
   ]
  },
  {
   "cell_type": "markdown",
   "metadata": {
    "id": "7rP23olAASII"
   },
   "source": [
    "#### <h3> **COMPROBACIÓN DE HIPÓTESIS** </h3>"
   ]
  },
  {
   "cell_type": "markdown",
   "metadata": {
    "id": "f1DWvHGAt8RO"
   },
   "source": [
    "A lo largo del problema, la empresa nos indica que quiere demostrar que \"La duración promedio de los viajes desde el Loop hasta el Aeropuerto Internacional O'Hare son iguales los sábados lluviosos\". Por lo que se utilizará el dataframe trips, el cual contiene esta data y fué previmente tratada desde la base de datos, sinedo esta la hipótesist nula. "
   ]
  },
  {
   "cell_type": "markdown",
   "metadata": {
    "id": "CpcFqTWNui9a"
   },
   "source": [
    "Se crea una función que ayuda a determinar basado en un `ttest_rel` o un `ttest_ind` si se debe rechacar la hipótesis nula o no, en este caso en concreto, utilizamos `ttest_rel`, por lo que la variable `rel` quedará por defecto ya que los datos no cumplen siempre con las mismas condicones, aunque sea la misma compañía puede que no sea el mismo auto, conductor, entre otros. "
   ]
  },
  {
   "cell_type": "markdown",
   "metadata": {
    "id": "YwjgUvw0j3dP"
   },
   "source": []
  },
  {
   "cell_type": "code",
   "execution_count": null,
   "metadata": {
    "id": "trD9Iq29AhHZ"
   },
   "outputs": [],
   "source": [
    "def hipotesis_nula_muestras(L1, L2, rel = True):\n",
    "  '''\n",
    "  Esta función permite saber si debemos rechazar o aprobar una hipótesis nula, con dos métodos difernetes, \n",
    "  st.ttest_rel(True) se utiliza cuando las muestras no dependen una de las otras, son independientes, \n",
    "  st.ttest_ind(False) se utiliza cuando las muestras son iguales, y dependientes entre si.\n",
    "\n",
    "  INPUTS:\n",
    "  L1 (iterable): Se coloca el primer iterable de valores, llamese lista, dataframe, array entre otros\n",
    "  L2 (iterable): Se coloca el segúndo iterable de valores, llamese lista, dataframe, array entre otros\n",
    "  rel (bool): variable opcional, inicializada en True, que nos permite determinar si se quiere realizar \n",
    "              un análisis por medio de st.ttest_rel cuando rel = True o st.ttest_ind cuando rel = False\n",
    "  OUTPUTS:\n",
    "  Un mensaje con el p_valor y si se rechaza o no la hipótesis nula.\n",
    "  '''\n",
    "\n",
    "  alpha = 0.05\n",
    "  if rel == True:\n",
    "    results = st.ttest_rel(L1, L2) \n",
    "  else:\n",
    "    results = st.ttest_ind(L1, L2)\n",
    "  print('p-value: ', results.pvalue) \n",
    "  if results.pvalue < alpha:     \n",
    "    print(\"Rechazamos la hipótesis nula\") \n",
    "  else:     \n",
    "    print(\"No rechazamos la hipótesis nula\") "
   ]
  },
  {
   "cell_type": "markdown",
   "metadata": {
    "id": "JYSZHG23u9xZ"
   },
   "source": [
    "Así mismo se decide dsepara los datos en dos DatafRame diferentes, en el primero `trips_good` tenemos los climas buenos de los sabados, y en el segundo los climas malos `trips_bad` con sus respectivos vijaes culminados, para poder comparalos y llegar a la conlcuión apropiada."
   ]
  },
  {
   "cell_type": "code",
   "execution_count": null,
   "metadata": {
    "colab": {
     "base_uri": "https://localhost:8080/"
    },
    "id": "M6kF4V80Cveg",
    "outputId": "72d24227-e34f-4812-9448-dff65e70de8f"
   },
   "outputs": [
    {
     "data": {},
     "execution_count": 45,
     "metadata": {},
     "output_type": "execute_result"
    }
   ],
   "source": [
    "trips"
   ]
  },
  {
   "cell_type": "code",
   "execution_count": null,
   "metadata": {
    "id": "QeDezompD-JL"
   },
   "outputs": [],
   "source": [
    "trips_good = trips[trips['weather_conditions'] == 'Good'].reset_index(drop = True)\n",
    "trips_bad = trips[trips['weather_conditions'] == 'Bad'].reset_index(drop = True)"
   ]
  },
  {
   "cell_type": "markdown",
   "metadata": {
    "id": "87tcKF1RvXZt"
   },
   "source": [
    "Mostramos ambos DataFrame"
   ]
  },
  {
   "cell_type": "code",
   "execution_count": null,
   "metadata": {
    "colab": {
     "base_uri": "https://localhost:8080/"
    },
    "id": "gy7294GMFavr",
    "outputId": "63c00c0a-0563-4c81-e538-ee37b59c1409"
   },
   "outputs": [
    {
     "data": {},
     "execution_count": 47,
     "metadata": {},
     "output_type": "execute_result"
    }
   ],
   "source": [
    "trips_good.head()"
   ]
  },
  {
   "cell_type": "code",
   "execution_count": null,
   "metadata": {
    "colab": {
     "base_uri": "https://localhost:8080/"
    },
    "id": "sHl8h0lZFdUu",
    "outputId": "088dc69e-9c8c-4ee4-9d6b-bd87f6f760b5"
   },
   "outputs": [
    {
     "data": {},
     "execution_count": 48,
     "metadata": {},
     "output_type": "execute_result"
    }
   ],
   "source": [
    "trips_bad.head()"
   ]
  },
  {
   "cell_type": "markdown",
   "metadata": {
    "id": "wCWt9TanvbI9"
   },
   "source": [
    "Coprobamos que las DataFrame tengan la misma longitud"
   ]
  },
  {
   "cell_type": "code",
   "execution_count": null,
   "metadata": {
    "colab": {
     "base_uri": "https://localhost:8080/"
    },
    "id": "EZY93PMJENfg",
    "outputId": "ac7a325d-ba04-45b4-c23a-a696b6dbea62"
   },
   "outputs": [],
   "source": [
    "print(len(trips_good ))\n",
    "print(len(trips_bad ))"
   ]
  },
  {
   "cell_type": "code",
   "execution_count": null,
   "metadata": {
    "colab": {
     "base_uri": "https://localhost:8080/"
    },
    "id": "3URoEXmvEcS4",
    "outputId": "f52c59cb-f43f-4584-ee6d-70c17b335ad7"
   },
   "outputs": [],
   "source": [
    "print(len(trips_good.loc[:179] ))"
   ]
  },
  {
   "cell_type": "markdown",
   "metadata": {
    "id": "8Dxweo4YvgBW"
   },
   "source": [
    "Comprobamos la hipótesis utilizando la función `hipotesis_nula_muestras` escrita anteriormente\n",
    "\n"
   ]
  },
  {
   "cell_type": "code",
   "execution_count": null,
   "metadata": {
    "colab": {
     "base_uri": "https://localhost:8080/"
    },
    "id": "QHzX5p5SEqgF",
    "outputId": "d4ff4046-bae3-436a-cddb-d72bf0fbe2e9"
   },
   "outputs": [],
   "source": [
    "hipotesis_nula_muestras(trips_good['duration_seconds'].loc[:179], trips_bad['duration_seconds'], rel = True)"
   ]
  },
  {
   "cell_type": "markdown",
   "metadata": {
    "id": "MZXPvpxavnd3"
   },
   "source": [
    "Como se puede observar se debe rechazar la hipótesis nula. Dando lugar a la hipótesis primaria, de que \"La duración promedio de los viajes desde el Loop hasta el Aeropuerto Internacional O'Hare cambia los sábados lluviosos\" Lo cual es lógico, la duración de cada viage depende tambien del clima, ya que lagente conduce más lento o rápido dependiendo de este."
   ]
  },
  {
   "cell_type": "markdown",
   "metadata": {
    "id": "2AyUIp85x2Gd"
   },
   "source": [
    "### <h2> **CONCLUSIÓN GENERAL** </h2>"
   ]
  },
  {
   "cell_type": "markdown",
   "metadata": {
    "id": "Oj7PbG99wMVy"
   },
   "source": [
    "\n",
    "\n",
    "Las tablas utilizadas en este proyecto provenian de una base de datos, se trabajó con SQL para obtener las tablas necesarias para un correcto análisis de los datos. \n",
    "\n",
    "Se evidenció que Flash cap, es una compañia con un rendimiento bastante elevado, incluso tiene casi el doble de viajes que el segundo puesto de la lita. Esto nos hizo legar a la conclusión que para ser la mejor compañía se deben de superar los 19558 viajes diarios, sin embargo para estar entre las 10 mejores solamente se deben superar 5953 viajes. \n",
    "\n",
    "Así mismo se determino quelos barrios donde al parecer tomar taxis es coún es en `Loop`, `River North`, `Streeterville`, `West Loop`\ty  `O'Hare`\tpor los que son los sitios donde sería ideal comenzar a posicionar la compañia, aunque probablmente esto evidencia una mayo competencia, por lo que la campaña de marketing debe estar a al altura del desafío. Es necesario reunirse con el equipo de marketing y determinar que camino seguir para lograr el exito.\n",
    "\n",
    "Por último se rechazó la hipótesis nula, donde se pudo evidenciar que los mas probables es que \"La duración promedio de los viajes desde el Loop hasta el Aeropuerto Internacional O'Hare cambia los sábados lluviosos\" Una conclusión bastante lógica tomando en cuenta como los factores climatológicos afectan el libre transisto en las vias y reduccen la velocidad de los vehículos."
   ]
  }
 ],
 "metadata": {
  "colab": {
   "provenance": []
  },
  "kernelspec": {
   "display_name": "Python 3 (ipykernel)",
   "language": "python",
   "name": "python3"
  },
  "language_info": {
   "codemirror_mode": {
    "name": "ipython",
    "version": 3
   },
   "file_extension": ".py",
   "mimetype": "text/x-python",
   "name": "python",
   "nbconvert_exporter": "python",
   "pygments_lexer": "ipython3",
   "version": "3.9.5"
  },
  "toc": {
   "base_numbering": 1,
   "nav_menu": {},
   "number_sections": true,
   "sideBar": true,
   "skip_h1_title": true,
   "title_cell": "Table of Contents",
   "title_sidebar": "Contents",
   "toc_cell": false,
   "toc_position": {},
   "toc_section_display": true,
   "toc_window_display": false
  }
 },
 "nbformat": 4,
 "nbformat_minor": 1
}
